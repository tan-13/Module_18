{
 "cells": [
  {
   "cell_type": "code",
   "execution_count": 1,
   "metadata": {},
   "outputs": [
    {
     "name": "stdout",
     "output_type": "stream",
     "text": [
      "{'кошки': 42, 'собаки': 52, 'грызуны': 22, 'рыбки': 15}\n",
      "{'кошки': 44, 'собаки': 52, 'грызуны': 22, 'попугаи': 10}\n",
      "128\n"
     ]
    }
   ],
   "source": [
    "#Задача 1\n",
    "'''Создать словарь pet_shop и наполнить данными, которые бы отражали количество\n",
    " товаров для разной группы животных кошки, собаки, грызуны, рыбки. Внести изменения в словарь :\n",
    "а) в категории кошки изменилось количество товаров, б) появилась новая категория - попугаи, с)\n",
    "удалена категория рыбки. Вычислить общее количество товаров в магазине.'''\n",
    "\n",
    "pet_shop = {'кошки': 42, 'собаки': 52, 'грызуны': 22, 'рыбки': 15}\n",
    "print(pet_shop)\n",
    "pet_shop['кошки'] += 2\n",
    "pet_shop['попугаи'] = 10\n",
    "del pet_shop['рыбки']\n",
    "s = 0\n",
    "for qty in pet_shop.values():\n",
    "    s += qty\n",
    "print(pet_shop)\n",
    "print(s)"
   ]
  },
  {
   "cell_type": "code",
   "execution_count": 2,
   "metadata": {},
   "outputs": [
    {
     "name": "stdout",
     "output_type": "stream",
     "text": [
      "1200\n",
      "Ваша скидка составляет: 180.0 рублей\n"
     ]
    }
   ],
   "source": [
    "#Задача 2\n",
    "'''Рассчитать скидку для покупателя. Покупатель вводит в поле сумму накопленных чеков, при сумме до 1000 рублей - \n",
    "скидка составляет 5%, при сумме более 1000 рублей - 15%. Вывести сумму скидки.''' \n",
    "sum = int(input())\n",
    "discount_1 = sum * 0.05\n",
    "discount_2 = sum * 0.15\n",
    "while sum <= 1000:\n",
    "    print(f'Ваша скидка составляет: {discount_1} рублей')\n",
    "    break\n",
    "while sum >= 1000:\n",
    "    print(f'Ваша скидка составляет: {discount_2} рублей')\n",
    "    break"
   ]
  },
  {
   "cell_type": "code",
   "execution_count": 3,
   "metadata": {},
   "outputs": [
    {
     "name": "stdout",
     "output_type": "stream",
     "text": [
      "25\n",
      "Поздравляем! Ваш выигрыш составляет 500 баллов на покупки в магазине PetShop!\n"
     ]
    }
   ],
   "source": [
    "#Задача 3\n",
    "'''Регистрация лотерейных купонов на скидку в магазине. Купоны содержат натуральные однозначные, двузначные и\n",
    "трехзначные числа. Пользователь вводит значение своего купона и ему выводится сумма баллов на покупки. Если пользователь \n",
    "введет неверный символ, написать \"Введен неверный элемент\".'''\n",
    "n = int(input())\n",
    "myFile_1 = open('lot_1.txt')\n",
    "myFile_2 = open('lot_2.txt')\n",
    "myFile_3 = open('lot_3.txt')\n",
    "if n <= 9 and n > 0:\n",
    "    print(myFile_1.read())\n",
    "elif n <= 99 and n > 0:\n",
    "    print(myFile_2.read())\n",
    "elif n <= 999 and n > 0:\n",
    "    print(myFile_3.read())\n",
    "else:\n",
    "    print(\"Введен неверный элемент\")"
   ]
  },
  {
   "cell_type": "code",
   "execution_count": null,
   "metadata": {},
   "outputs": [],
   "source": []
  }
 ],
 "metadata": {
  "kernelspec": {
   "display_name": "Python 3.8.4 64-bit",
   "language": "python",
   "name": "python38464bit8ddfffc2884943828320e5a89c55c7cc"
  },
  "language_info": {
   "codemirror_mode": {
    "name": "ipython",
    "version": 3
   },
   "file_extension": ".py",
   "mimetype": "text/x-python",
   "name": "python",
   "nbconvert_exporter": "python",
   "pygments_lexer": "ipython3",
   "version": "3.8.4rc1"
  }
 },
 "nbformat": 4,
 "nbformat_minor": 4
}
